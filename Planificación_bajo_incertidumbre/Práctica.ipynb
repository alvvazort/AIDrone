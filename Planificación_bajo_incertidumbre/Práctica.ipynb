{
 "cells": [
  {
   "cell_type": "markdown",
   "metadata": {},
   "source": [
    "# Práctica de planificación bajo incertidumbre"
   ]
  },
  {
   "cell_type": "markdown",
   "metadata": {},
   "source": [
    "### Inteligencia Artificial\n",
    "### Grado en Ingeniería Informática - Ingeniería del Software\n",
    "### Universidad de Sevilla"
   ]
  },
  {
   "cell_type": "markdown",
   "metadata": {},
   "source": [
    "El paquete de _Python_ [pymdptoolbox](https://github.com/sawcordwell/pymdptoolbox) proporciona un marco de trabajo para procesos de decisión de Markov."
   ]
  },
  {
   "cell_type": "markdown",
   "metadata": {},
   "source": [
    "El paquete proporciona tres módulos:\n",
    "* El módulo _mdp_ es el que implementa los procesos de decisión de Markov y los algoritmos de iteración de valores y de políticas, entre otros.\n",
    "* El módulo _util_ proporciona algunas funciones para comprobar la correcta descripción del proceso de decisión de Markov, como por ejemplo que la función de transición de cada acción aplicada a cada estado es una distribución de probabilidad (las probabilidades de los nuevos estados están en el intervalo $[0, 1]$ y suman $1$).\n",
    "* El modulo _example_ proporciona algunos ejemplos.\n",
    "\n",
    "En esta práctica solo usaremos el primero de esos módulos."
   ]
  },
  {
   "cell_type": "code",
   "execution_count": 99,
   "metadata": {},
   "outputs": [],
   "source": [
    "import mdptoolbox.mdp as mdp"
   ]
  },
  {
   "cell_type": "markdown",
   "metadata": {},
   "source": [
    "Los algoritmos para calcular una política óptima utilizan operaciones matriciales, por lo que también necesitaremos hacer uso del paquete [Numpy](https://numpy.org/)."
   ]
  },
  {
   "cell_type": "code",
   "execution_count": 173,
   "metadata": {},
   "outputs": [],
   "source": [
    "import numpy"
   ]
  },
  {
   "cell_type": "markdown",
   "metadata": {},
   "source": [
    "# Ejemplo del robot y las cinco localizaciones"
   ]
  },
  {
   "cell_type": "markdown",
   "metadata": {},
   "source": [
    "Recordemos que en el tema hemos visto un ejemplo de proceso de decisión de Markov en el que tenemos un robot que puede encontrarse en una de entre cinco localizaciones y trata de moverse entre ellas, con el objetivo de llegar a una localización concreta."
   ]
  },
  {
   "cell_type": "markdown",
   "metadata": {},
   "source": [
    "Los estados del sistema están representados por un predicado `en`, que indica la localización en la que se encuentra el robot."
   ]
  },
  {
   "cell_type": "code",
   "execution_count": 188,
   "metadata": {},
   "outputs": [],
   "source": [
    "#estados = ['en(l1)', 'en(l2)', 'en(l3)', 'en(l4)', 'en(l5)']\n",
    "estados = ['M','PC2','PC3','PC4','PC5','A2', 'A3', 'A4', 'A5'] \n"
   ]
  },
  {
   "cell_type": "markdown",
   "metadata": {},
   "source": [
    "Las posibles acciones que puede realizar el robot son `esperar` o `ir` de una localización a otra (pero no para cualquier par de localizaciones hay un camino directo)."
   ]
  },
  {
   "cell_type": "code",
   "execution_count": 189,
   "metadata": {},
   "outputs": [],
   "source": [
    "'''\n",
    "acciones = ['esperar',\n",
    "            'ir(l1, l2)', 'ir(l1, l4)',\n",
    "            'ir(l2, l1)', 'ir(l2, l3)',\n",
    "            'ir(l3, l2)', 'ir(l3, l4)',\n",
    "            'ir(l4, l1)', 'ir(l4, l3)', 'ir(l4, l5)',\n",
    "            'ir(l5, l2)', 'ir(l5, l4)']\n",
    "'''\n",
    "acciones = ['actua','viaja']\n"
   ]
  },
  {
   "cell_type": "markdown",
   "metadata": {},
   "source": [
    "En realidad, las listas de estados y acciones anteriores no son necesarias, ya que el paquete trabaja con la enumeración de estados (`0` es el estado `en(l1)`, `1` es el estado `en(l2)`, ...) y de las acciones (`0` es la acción `esperar`, `1` es la acción `ir(l1, l2)`, ...). Pero nos servirán para transformar las respuestas de los algoritmos a un formato más amigable."
   ]
  },
  {
   "cell_type": "markdown",
   "metadata": {},
   "source": [
    "La acción `esperar` deja al robot en la misma localización en que se encuentre con probabilidad $1$ y tiene coste $0$. La función de transición del resto de acciones, sus costes y las recompensas de los estados se encuentran recogidas en el siguiente gráfico:\n",
    "\n",
    "![](Recompensas_y_costes.png)"
   ]
  },
  {
   "cell_type": "markdown",
   "metadata": {},
   "source": [
    "Las recompensas de los estados se representan mediante un array unidimensional."
   ]
  },
  {
   "cell_type": "code",
   "execution_count": 216,
   "metadata": {},
   "outputs": [
    {
     "name": "stdout",
     "output_type": "stream",
     "text": [
      "[-10000000         0         0         0      -100       100       100\n",
      "       100       100]\n"
     ]
    }
   ],
   "source": [
    "#recompensas_estados = numpy.array([0, 0, 0, 100, -100])\n",
    "recompensas_estados = numpy.array([-10000000, 0, 0, 0, -100, 100, 100, 100, 100]) \n",
    "\n",
    "print(recompensas_estados)"
   ]
  },
  {
   "cell_type": "markdown",
   "metadata": {},
   "source": [
    "La función de transición y el coste de aplicación para cada acción se representan, respectivamente, mediante un array bidimensional y un array unidimensional. Por ejemplo, para la acción `esperar` la función de transición vendrá dada por la matriz identidad $5 \\times 5$ y el coste de aplicación por el vector nulo de longitud $5$."
   ]
  },
  {
   "cell_type": "code",
   "execution_count": 217,
   "metadata": {},
   "outputs": [
    {
     "name": "stdout",
     "output_type": "stream",
     "text": [
      "[[1.   0.   0.   0.   0.   0.   0.   0.   0.  ]\n",
      " [0.3  0.7  0.   0.   0.   0.   0.   0.   0.  ]\n",
      " [0.05 0.25 0.7  0.   0.   0.   0.   0.   0.  ]\n",
      " [0.   0.1  0.2  0.7  0.   0.   0.   0.   0.  ]\n",
      " [0.   0.   0.1  0.2  0.7  0.   0.   0.   0.  ]\n",
      " [0.   0.   0.   0.   0.   0.2  0.8  0.   0.  ]\n",
      " [0.   0.   0.   0.   0.   0.   0.2  0.8  0.  ]\n",
      " [0.   0.   0.   0.   0.   0.   0.   0.2  0.8 ]\n",
      " [0.   0.   0.   0.   0.   0.   0.   0.   1.  ]]\n"
     ]
    }
   ],
   "source": [
    "'''\n",
    "transición_esperar = numpy.array([[1, 0, 0, 0, 0],\n",
    "                                  [0, 1, 0, 0, 0],\n",
    "                                  [0, 0, 1, 0, 0],\n",
    "                                  [0, 0, 0, 1, 0],\n",
    "                                  [0, 0, 0, 0, 1]])\n",
    "'''\n",
    "transición_actua = numpy.array([[1, 0, 0, 0, 0, 0, 0, 0, 0],\n",
    "                                [0.3, 0.7, 0, 0, 0, 0, 0, 0, 0],\n",
    "                                [0.05, 0.25, 0.7, 0, 0, 0, 0, 0, 0],\n",
    "                                [0, 0.1, 0.2, 0.7, 0, 0, 0, 0, 0],\n",
    "                                [0, 0, 0.1, 0.2, 0.7, 0, 0, 0,0],\n",
    "                                [0, 0, 0, 0, 0, 0.2, 0.8, 0, 0],\n",
    "                                [0, 0, 0, 0, 0, 0, 0.2, 0.8, 0],\n",
    "                                [0, 0, 0, 0, 0, 0, 0, 0.2, 0.8],\n",
    "                                [0, 0, 0, 0, 0, 0, 0, 0, 1]])\n",
    "\n",
    "#print(transición_esperar)\n",
    "print(transición_actua)"
   ]
  },
  {
   "cell_type": "code",
   "execution_count": 218,
   "metadata": {},
   "outputs": [
    {
     "name": "stdout",
     "output_type": "stream",
     "text": [
      "[ 0.  0.  0.  0. inf  0.  0.  0.  0.]\n"
     ]
    }
   ],
   "source": [
    "#coste_esperar = numpy.array([0, 0, 0, 0, 0])\n",
    "#print(coste_esperar)\n",
    "coste_actua = numpy.array([0, 0, 0, 0, numpy.inf, 0, 0, 0, 0])\n",
    "print(coste_actua)"
   ]
  },
  {
   "cell_type": "markdown",
   "metadata": {},
   "source": [
    "Un detalle importante es que el paquete asume que todas las acciones son ejecutables en todos los estados. Representaremos que una acción no es ejecutable en un estado estableciendo que el estado no cambia y que la ejecución tiene un coste muy alto (de hecho, podremos establecer coste infinito). De esta forma, el algoritmo no seleccionará la acción para la política óptima. Por ejemplo, para la acción `ir(l1, l2)` se tiene la siguiente matriz de transición y vector de costes:"
   ]
  },
  {
   "cell_type": "code",
   "execution_count": 219,
   "metadata": {},
   "outputs": [
    {
     "name": "stdout",
     "output_type": "stream",
     "text": [
      "[[1.  0.  0.  0.  0.  0.  0.  0.  0. ]\n",
      " [0.2 0.  0.  0.  0.  0.8 0.  0.  0. ]\n",
      " [0.1 0.  0.  0.  0.  0.3 0.6 0.  0. ]\n",
      " [0.  0.  0.  0.  0.  0.1 0.3 0.6 0. ]\n",
      " [0.  0.  0.  0.  0.  0.  0.1 0.3 0.6]\n",
      " [0.2 0.8 0.  0.  0.  0.  0.  0.  0. ]\n",
      " [0.1 0.3 0.6 0.  0.  0.  0.  0.  0. ]\n",
      " [0.  0.1 0.3 0.6 0.  0.  0.  0.  0. ]\n",
      " [0.  0.  0.1 0.3 0.6 0.  0.  0.  0. ]]\n"
     ]
    }
   ],
   "source": [
    "'''\n",
    "\n",
    "transición_ir_l1_l2 = numpy.array([[0, 1, 0, 0, 0],\n",
    "                                   [0, 1, 0, 0, 0],\n",
    "                                   [0, 0, 1, 0, 0],\n",
    "                                   [0, 0, 0, 1, 0],\n",
    "                                   [0, 0, 0, 0, 1]])\n",
    "'''\n",
    "transición_viaja = numpy.array([[1, 0, 0, 0, 0, 0, 0, 0, 0],\n",
    "                                [0.2, 0, 0, 0, 0, 0.8, 0, 0, 0],\n",
    "                                [0.1, 0, 0, 0, 0, 0.3, 0.6, 0, 0],\n",
    "                                [0,\t0, 0, 0, 0, 0.1, 0.3, 0.6, 0],\n",
    "                                [0, 0, 0, 0, 0, 0, 0.1, 0.3, 0.6],\n",
    "                                [0.2, 0.8, 0, 0, 0, 0, 0, 0, 0],\n",
    "                                [0.1, 0.3, 0.6, 0, 0, 0, 0, 0, 0],\n",
    "                                [0,\t0.1, 0.3, 0.6, 0, 0, 0, 0, 0],\n",
    "                                [0, 0, 0.1, 0.3, 0.6, 0, 0, 0, 0]])\n",
    "#print(transición_ir_l1_l2)\n",
    "print(transición_viaja)"
   ]
  },
  {
   "cell_type": "code",
   "execution_count": 220,
   "metadata": {},
   "outputs": [
    {
     "name": "stdout",
     "output_type": "stream",
     "text": [
      "[inf  0.  0.  0.  0.  0.  0.  0. inf]\n"
     ]
    }
   ],
   "source": [
    "#coste_ir_l1_l2 = numpy.array([100, numpy.inf, numpy.inf, numpy.inf, numpy.inf])\n",
    "#print(coste_ir_l1_l2)\n",
    "\n",
    "coste_viaja = numpy.array([numpy.inf, 0, 0, 0, 0, 0, 0, 0, numpy.inf])\n",
    "print(coste_viaja)"
   ]
  },
  {
   "cell_type": "markdown",
   "metadata": {},
   "source": [
    "Análogamente, para el resto de acciones se tienen las siguientes matrices de transición y vectores de coste:"
   ]
  },
  {
   "cell_type": "code",
   "execution_count": 221,
   "metadata": {},
   "outputs": [],
   "source": [
    "transición_ir_l1_l4 = numpy.array([[.5, 0, 0, .5, 0],\n",
    "                                   [0, 1, 0, 0, 0],\n",
    "                                   [0, 0, 1, 0, 0],\n",
    "                                   [0, 0, 0, 1, 0],\n",
    "                                   [0, 0, 0, 0, 1]])\n",
    "coste_ir_l1_l4 = numpy.array([1, numpy.inf, numpy.inf, numpy.inf, numpy.inf])\n",
    "\n",
    "transición_ir_l2_l1 = numpy.array([[1, 0, 0, 0, 0],\n",
    "                                   [1, 0, 0, 0, 0],\n",
    "                                   [0, 0, 1, 0, 0],\n",
    "                                   [0, 0, 0, 1, 0],\n",
    "                                   [0, 0, 0, 0, 1]])\n",
    "coste_ir_l2_l1 = numpy.array([numpy.inf, 100, numpy.inf, numpy.inf, numpy.inf])\n",
    "\n",
    "transición_ir_l2_l3 = numpy.array([[1, 0, 0, 0, 0],\n",
    "                                   [0, 0, .8, 0, .2],\n",
    "                                   [0, 0, 1, 0, 0],\n",
    "                                   [0, 0, 0, 1, 0],\n",
    "                                   [0, 0, 0, 0, 1]])\n",
    "coste_ir_l2_l3 = numpy.array([numpy.inf, 1, numpy.inf, numpy.inf, numpy.inf])\n",
    "\n",
    "transición_ir_l3_l2 = numpy.array([[1, 0, 0, 0, 0],\n",
    "                                   [0, 1, 0, 0, 0],\n",
    "                                   [0, 1, 0, 0, 0],\n",
    "                                   [0, 0, 0, 1, 0],\n",
    "                                   [0, 0, 0, 0, 1]])\n",
    "coste_ir_l3_l2 = numpy.array([numpy.inf, numpy.inf, 1, numpy.inf, numpy.inf])\n",
    "\n",
    "transición_ir_l3_l4 = numpy.array([[1, 0, 0, 0, 0],\n",
    "                                   [0, 1, 0, 0, 0],\n",
    "                                   [0, 0, 0, 1, 0],\n",
    "                                   [0, 0, 0, 1, 0],\n",
    "                                   [0, 0, 0, 0, 1]])\n",
    "coste_ir_l3_l4 = numpy.array([numpy.inf, numpy.inf, 100, numpy.inf, numpy.inf])\n",
    "\n",
    "transición_ir_l4_l1 = numpy.array([[1, 0, 0, 0, 0],\n",
    "                                   [0, 1, 0, 0, 0],\n",
    "                                   [0, 0, 1, 0, 0],\n",
    "                                   [1, 0, 0, 0, 0],\n",
    "                                   [0, 0, 0, 0, 1]])\n",
    "coste_ir_l4_l1 = numpy.array([numpy.inf, numpy.inf, numpy.inf, 1, numpy.inf])\n",
    "\n",
    "transición_ir_l4_l3 = numpy.array([[1, 0, 0, 0, 0],\n",
    "                                   [0, 1, 0, 0, 0],\n",
    "                                   [0, 0, 1, 0, 0],\n",
    "                                   [0, 0, 1, 0, 0],\n",
    "                                   [0, 0, 0, 0, 1]])\n",
    "coste_ir_l4_l3 = numpy.array([numpy.inf, numpy.inf, numpy.inf, 100, numpy.inf])\n",
    "\n",
    "transición_ir_l4_l5 = numpy.array([[1, 0, 0, 0, 0],\n",
    "                                   [0, 1, 0, 0, 0],\n",
    "                                   [0, 0, 1, 0, 0],\n",
    "                                   [0, 0, 0, 0, 1],\n",
    "                                   [0, 0, 0, 0, 1]])\n",
    "coste_ir_l4_l5 = numpy.array([numpy.inf, numpy.inf, numpy.inf, 100, numpy.inf])\n",
    "\n",
    "transición_ir_l5_l2 = numpy.array([[1, 0, 0, 0, 0],\n",
    "                                   [0, 1, 0, 0, 0],\n",
    "                                   [0, 0, 1, 0, 0],\n",
    "                                   [0, 0, 0, 1, 0],\n",
    "                                   [0, 1, 0, 0, 0]])\n",
    "coste_ir_l5_l2 = numpy.array([numpy.inf, numpy.inf, numpy.inf, numpy.inf, 1])\n",
    "\n",
    "transición_ir_l5_l4 = numpy.array([[1, 0, 0, 0, 0],\n",
    "                                   [0, 1, 0, 0, 0],\n",
    "                                   [0, 0, 1, 0, 0],\n",
    "                                   [0, 0, 0, 1, 0],\n",
    "                                   [0, 0, 0, 1, 0]])\n",
    "coste_ir_l5_l4 = numpy.array([numpy.inf, numpy.inf, numpy.inf, numpy.inf, 100])"
   ]
  },
  {
   "cell_type": "markdown",
   "metadata": {},
   "source": [
    "Finalmente, para calcular una política óptima del proceso de decisión de Markov hay que pasarle a los algoritmos un array tridimensional de todas las matrices de transición y un array bidimensional de las recompensas de los estados menos los costes de las acciones."
   ]
  },
  {
   "cell_type": "code",
   "execution_count": 222,
   "metadata": {},
   "outputs": [
    {
     "name": "stdout",
     "output_type": "stream",
     "text": [
      "[[[1.   0.   0.   0.   0.   0.   0.   0.   0.  ]\n",
      "  [0.3  0.7  0.   0.   0.   0.   0.   0.   0.  ]\n",
      "  [0.05 0.25 0.7  0.   0.   0.   0.   0.   0.  ]\n",
      "  [0.   0.1  0.2  0.7  0.   0.   0.   0.   0.  ]\n",
      "  [0.   0.   0.1  0.2  0.7  0.   0.   0.   0.  ]\n",
      "  [0.   0.   0.   0.   0.   0.2  0.8  0.   0.  ]\n",
      "  [0.   0.   0.   0.   0.   0.   0.2  0.8  0.  ]\n",
      "  [0.   0.   0.   0.   0.   0.   0.   0.2  0.8 ]\n",
      "  [0.   0.   0.   0.   0.   0.   0.   0.   1.  ]]\n",
      "\n",
      " [[1.   0.   0.   0.   0.   0.   0.   0.   0.  ]\n",
      "  [0.2  0.   0.   0.   0.   0.8  0.   0.   0.  ]\n",
      "  [0.1  0.   0.   0.   0.   0.3  0.6  0.   0.  ]\n",
      "  [0.   0.   0.   0.   0.   0.1  0.3  0.6  0.  ]\n",
      "  [0.   0.   0.   0.   0.   0.   0.1  0.3  0.6 ]\n",
      "  [0.2  0.8  0.   0.   0.   0.   0.   0.   0.  ]\n",
      "  [0.1  0.3  0.6  0.   0.   0.   0.   0.   0.  ]\n",
      "  [0.   0.1  0.3  0.6  0.   0.   0.   0.   0.  ]\n",
      "  [0.   0.   0.1  0.3  0.6  0.   0.   0.   0.  ]]]\n"
     ]
    }
   ],
   "source": [
    "'''\n",
    "transiciones_sistema = numpy.array([transición_esperar,\n",
    "                                    transición_ir_l1_l2,\n",
    "                                    transición_ir_l1_l4,\n",
    "                                    transición_ir_l2_l1,\n",
    "                                    transición_ir_l2_l3,\n",
    "                                    transición_ir_l3_l2,\n",
    "                                    transición_ir_l3_l4,\n",
    "                                    transición_ir_l4_l1,\n",
    "                                    transición_ir_l4_l3,\n",
    "                                    transición_ir_l4_l5,\n",
    "                                    transición_ir_l5_l2,\n",
    "                                    transición_ir_l5_l4])\n",
    "'''\n",
    "\n",
    "transiciones_sistema = numpy.array([transición_actua,\n",
    "                                    transición_viaja])\n",
    "\n",
    "print(transiciones_sistema)"
   ]
  },
  {
   "cell_type": "code",
   "execution_count": 223,
   "metadata": {},
   "outputs": [
    {
     "name": "stdout",
     "output_type": "stream",
     "text": [
      "[[-1.e+07    -inf]\n",
      " [ 0.e+00  0.e+00]\n",
      " [ 0.e+00  0.e+00]\n",
      " [ 0.e+00  0.e+00]\n",
      " [   -inf -1.e+02]\n",
      " [ 1.e+02  1.e+02]\n",
      " [ 1.e+02  1.e+02]\n",
      " [ 1.e+02  1.e+02]\n",
      " [ 1.e+02    -inf]]\n"
     ]
    }
   ],
   "source": [
    "# Transformamos el vector de recompensas en una matriz 5x1\n",
    "\n",
    "#matriz_recompensas = recompensas_estados.reshape(5, 1)\n",
    "matriz_recompensas = recompensas_estados.reshape(9, 1)\n",
    "\n",
    "# Creamos una matriz donde cada columna es el vector de costes de una acción\n",
    "'''\n",
    "matriz_costes = numpy.column_stack([coste_esperar,\n",
    "                                    coste_ir_l1_l2,\n",
    "                                    coste_ir_l1_l4,\n",
    "                                    coste_ir_l2_l1,\n",
    "                                    coste_ir_l2_l3,\n",
    "                                    coste_ir_l3_l2,\n",
    "                                    coste_ir_l3_l4,\n",
    "                                    coste_ir_l4_l1,\n",
    "                                    coste_ir_l4_l3,\n",
    "                                    coste_ir_l4_l5,\n",
    "                                    coste_ir_l5_l2,\n",
    "                                    coste_ir_l5_l4])\n",
    "'''\n",
    "matriz_costes = numpy.column_stack([coste_actua,\n",
    "                                    coste_viaja])\n",
    "\n",
    "recompensas_sistema = matriz_recompensas - matriz_costes\n",
    "print(recompensas_sistema)"
   ]
  },
  {
   "cell_type": "markdown",
   "metadata": {},
   "source": [
    "Para obtener una política óptima mediante el algoritmo de iteración de valores hay que crear una instancia adecuada de la clase `ValueIteration`. Hay que tener en cuenta que el valor de $\\epsilon$ que se proporciona es la diferencia máxima que se requiere entre el último $U_{n}$ calculado y $U^{*}$, para lo que se deriva a partir de él la diferencia máxima adecuada entre $U_{n}$ y $U_{n - 1}$. Por otra parte, $U_{0}$ asigna utilidad inicial $0$ a todos los estados."
   ]
  },
  {
   "cell_type": "code",
   "execution_count": 224,
   "metadata": {},
   "outputs": [],
   "source": [
    "ejemplo_robot_VI = mdp.ValueIteration(\n",
    "    transitions=transiciones_sistema,\n",
    "    reward=recompensas_sistema,\n",
    "    discount=0.9,\n",
    "    epsilon=0.1\n",
    ")"
   ]
  },
  {
   "cell_type": "markdown",
   "metadata": {},
   "source": [
    "Para ejecutar el algoritmo basta usar el método `run` de la clase anterior, pero antes establecemos el modo verboso, para que proporcione detalles de los cálculos."
   ]
  },
  {
   "cell_type": "code",
   "execution_count": 225,
   "metadata": {},
   "outputs": [
    {
     "name": "stdout",
     "output_type": "stream",
     "text": [
      "  Iteration\t\tV-variation\n",
      "    1\t\t  10000100.0\n",
      "    2\t\t  9000090.0\n",
      "    3\t\t  8100081.0\n",
      "    4\t\t  7290072.9\n",
      "    5\t\t  6561065.61\n",
      "    6\t\t  5904959.049\n",
      "    7\t\t  5314463.1441\n",
      "    8\t\t  4783016.82969\n",
      "    9\t\t  4304715.146721002\n",
      "    10\t\t  3874243.6320489007\n",
      "    11\t\t  3486819.2688440103\n",
      "    12\t\t  3138137.3419596176\n",
      "    13\t\t  2824323.6077636383\n",
      "    14\t\t  2541891.24698728\n",
      "    15\t\t  2287702.122288564\n",
      "    16\t\t  2058931.9100596942\n",
      "    17\t\t  1853038.7190537367\n",
      "    18\t\t  1667734.8471483528\n",
      "    19\t\t  1500961.362433519\n",
      "    20\t\t  1350865.2261901656\n",
      "    21\t\t  1215778.7035711533\n",
      "    22\t\t  1094200.8332140455\n",
      "    23\t\t  984780.7498926291\n",
      "    24\t\t  886302.6749033766\n",
      "    25\t\t  797672.407413036\n",
      "    26\t\t  717905.1666717264\n",
      "    27\t\t  646114.6500045627\n",
      "    28\t\t  581503.1850041035\n",
      "    29\t\t  523352.86650369014\n",
      "    30\t\t  471017.5798533285\n",
      "    31\t\t  423915.8218679957\n",
      "    32\t\t  381524.2396811961\n",
      "    33\t\t  343371.81571307057\n",
      "    34\t\t  309034.634141765\n",
      "    35\t\t  278131.17072759\n",
      "    36\t\t  250318.05365482502\n",
      "    37\t\t  225286.24828934847\n",
      "    38\t\t  202757.62346041363\n",
      "    39\t\t  182481.86111437375\n",
      "    40\t\t  164233.67500292446\n",
      "    41\t\t  147810.30750263203\n",
      "    42\t\t  133029.27675237774\n",
      "    43\t\t  119726.34907713998\n",
      "    44\t\t  107753.71416941853\n",
      "    45\t\t  96978.34275247667\n",
      "    46\t\t  87280.50847724093\n",
      "    47\t\t  78552.45762951385\n",
      "    48\t\t  70697.21186656247\n",
      "    49\t\t  63627.490679907714\n",
      "    50\t\t  57264.74161191694\n",
      "    51\t\t  51538.267450719286\n",
      "    52\t\t  46384.4407056414\n",
      "    53\t\t  41745.99663507875\n",
      "    54\t\t  37571.39697157683\n",
      "    55\t\t  33814.25727441915\n",
      "    56\t\t  30432.831546981706\n",
      "    57\t\t  27389.548392280558\n",
      "    58\t\t  24650.59355304952\n",
      "    59\t\t  22185.53419774904\n",
      "    60\t\t  19966.980777963705\n",
      "    61\t\t  17970.282700180745\n",
      "    62\t\t  16173.25443015671\n",
      "    63\t\t  14555.92898714402\n",
      "    64\t\t  13100.336088431108\n",
      "    65\t\t  11790.302479579055\n",
      "    66\t\t  10611.27223162413\n",
      "    67\t\t  9550.145008455756\n",
      "    68\t\t  8595.130507614651\n",
      "    69\t\t  7735.617456854677\n",
      "    70\t\t  6962.055711176659\n",
      "    71\t\t  6265.850140047072\n",
      "    72\t\t  5639.265126048326\n",
      "    73\t\t  5075.338613436043\n",
      "    74\t\t  4567.804752099889\n",
      "    75\t\t  4111.02427688394\n",
      "    76\t\t  3699.921849201506\n",
      "    77\t\t  3329.929664278375\n",
      "    78\t\t  2996.9366978564985\n",
      "    79\t\t  2697.2430280604176\n",
      "    80\t\t  2427.5187252603364\n",
      "    81\t\t  2184.7668527298324\n",
      "    82\t\t  1966.2901674628097\n",
      "    83\t\t  1769.6611507180187\n",
      "    84\t\t  1592.695035649197\n",
      "    85\t\t  1433.4255320723564\n",
      "    86\t\t  1290.0829788651208\n",
      "    87\t\t  1161.0746809875495\n",
      "    88\t\t  1044.9672128798538\n",
      "    89\t\t  940.4704915993191\n",
      "    90\t\t  846.4234424453476\n",
      "    91\t\t  761.7810981948523\n",
      "    92\t\t  685.602988373877\n",
      "    93\t\t  617.0426895349991\n",
      "    94\t\t  555.338420578519\n",
      "    95\t\t  499.8045785251376\n",
      "    96\t\t  449.82412066815345\n",
      "    97\t\t  404.84170859984795\n",
      "    98\t\t  364.3575377428434\n",
      "    99\t\t  327.9217839745196\n",
      "    100\t\t  295.12960557855774\n",
      "    101\t\t  265.6166450162316\n",
      "    102\t\t  239.05498050864787\n",
      "    103\t\t  215.14948245778317\n",
      "    104\t\t  193.63453421945553\n",
      "    105\t\t  174.27108079452967\n",
      "    106\t\t  156.8439727150768\n",
      "    107\t\t  141.1595754420789\n",
      "    108\t\t  127.04361789936115\n",
      "    109\t\t  114.33925610793494\n",
      "    110\t\t  102.90533050757233\n",
      "    111\t\t  92.61479744489418\n",
      "    112\t\t  83.35331770636515\n",
      "    113\t\t  75.017985928278\n",
      "    114\t\t  67.51618733843043\n",
      "    115\t\t  60.76456861203803\n",
      "    116\t\t  54.68811174040343\n",
      "    117\t\t  49.219300570833525\n",
      "    118\t\t  44.29737051076984\n",
      "    119\t\t  39.867633468633585\n",
      "    120\t\t  35.880870118790085\n",
      "    121\t\t  32.29278311287146\n",
      "    122\t\t  29.06350480009428\n",
      "    123\t\t  26.157154315614434\n",
      "    124\t\t  23.54143888107285\n",
      "    125\t\t  21.18729499594565\n",
      "    126\t\t  19.068565496351084\n",
      "    127\t\t  17.161708949696276\n",
      "    128\t\t  15.445538047276159\n",
      "    129\t\t  13.900984252979356\n",
      "    130\t\t  12.510885817250596\n",
      "    131\t\t  11.259797234035318\n",
      "    132\t\t  10.133817518082424\n",
      "    133\t\t  9.12043576776432\n",
      "    134\t\t  8.208392180557098\n",
      "    135\t\t  7.387552971442005\n",
      "    136\t\t  6.648797674297953\n",
      "    137\t\t  5.983917902397707\n",
      "    138\t\t  5.38552610768761\n",
      "    139\t\t  4.84697350436943\n",
      "    140\t\t  4.3622761584027785\n",
      "    141\t\t  3.9260485425626257\n",
      "    142\t\t  3.5334436778754252\n",
      "    143\t\t  3.1800993100879396\n",
      "    144\t\t  2.862089391000154\n",
      "    145\t\t  2.5758804474297676\n",
      "    146\t\t  2.3182924056671936\n",
      "    147\t\t  2.086463156159539\n",
      "    148\t\t  1.8778168435239877\n",
      "    149\t\t  1.6900351666220104\n",
      "    150\t\t  1.5210316439994358\n",
      "    151\t\t  1.368928472148923\n",
      "    152\t\t  1.232035633874716\n",
      "    153\t\t  1.1088320630367434\n",
      "    154\t\t  0.9979488656737203\n",
      "    155\t\t  0.8981539716556881\n",
      "    156\t\t  0.8083385744902216\n",
      "    157\t\t  0.727504718531236\n",
      "    158\t\t  0.6547542422079005\n",
      "    159\t\t  0.5892788239474385\n",
      "    160\t\t  0.5303509370825168\n",
      "    161\t\t  0.4773158478444657\n",
      "    162\t\t  0.4295842690205518\n",
      "    163\t\t  0.3866258331777317\n",
      "    164\t\t  0.3479632513501656\n",
      "    165\t\t  0.31316693366568416\n",
      "    166\t\t  0.2818502358288697\n",
      "    167\t\t  0.2536652122458918\n",
      "    168\t\t  0.22829869698171024\n",
      "    169\t\t  0.20546881685288554\n",
      "    170\t\t  0.18492193665758805\n",
      "    171\t\t  0.16642973852162868\n",
      "    172\t\t  0.14978677808051089\n",
      "    173\t\t  0.1348081002724939\n",
      "    174\t\t  0.12132728726487585\n",
      "    175\t\t  0.10919455108785314\n",
      "    176\t\t  0.09827509448894034\n",
      "    177\t\t  0.08844759100054489\n",
      "    178\t\t  0.079602828920315\n",
      "    179\t\t  0.07164254900840206\n",
      "    180\t\t  0.06447829708793051\n",
      "    181\t\t  0.05803047035931286\n",
      "    182\t\t  0.05222742332341568\n",
      "    183\t\t  0.04700467801092145\n",
      "    184\t\t  0.04230420871954266\n",
      "    185\t\t  0.03807378635747227\n",
      "    186\t\t  0.03426641219209614\n",
      "    187\t\t  0.030839766502595012\n",
      "    188\t\t  0.02775579134254258\n",
      "    189\t\t  0.02498021369842718\n",
      "    190\t\t  0.022482187858145153\n",
      "    191\t\t  0.020233967582157675\n",
      "    192\t\t  0.01821057827464756\n",
      "    193\t\t  0.01638951895711216\n",
      "    194\t\t  0.01475056855144885\n",
      "    195\t\t  0.013275502755618618\n",
      "    196\t\t  0.011947959930807883\n",
      "Iterating stopped due to maximum number of iterations condition.\n"
     ]
    }
   ],
   "source": [
    "ejemplo_robot_VI.setVerbose()\n",
    "ejemplo_robot_VI.run()"
   ]
  },
  {
   "cell_type": "markdown",
   "metadata": {},
   "source": [
    "La política óptima se encuentra guardada en el atributo `policy`."
   ]
  },
  {
   "cell_type": "code",
   "execution_count": 226,
   "metadata": {},
   "outputs": [
    {
     "data": {
      "text/plain": [
       "(0, 1, 1, 1, 1, 0, 0, 0, 0)"
      ]
     },
     "execution_count": 226,
     "metadata": {},
     "output_type": "execute_result"
    }
   ],
   "source": [
    "ejemplo_robot_VI.policy"
   ]
  },
  {
   "cell_type": "markdown",
   "metadata": {},
   "source": [
    "Con la siguiente expresión podemos verla de manera más amigable."
   ]
  },
  {
   "cell_type": "code",
   "execution_count": 227,
   "metadata": {},
   "outputs": [
    {
     "name": "stdout",
     "output_type": "stream",
     "text": [
      "En el estado M ejecuta la acción actua\n",
      "En el estado PC2 ejecuta la acción viaja\n",
      "En el estado PC3 ejecuta la acción viaja\n",
      "En el estado PC4 ejecuta la acción viaja\n",
      "En el estado PC5 ejecuta la acción viaja\n",
      "En el estado A2 ejecuta la acción actua\n",
      "En el estado A3 ejecuta la acción actua\n",
      "En el estado A4 ejecuta la acción actua\n",
      "En el estado A5 ejecuta la acción actua\n"
     ]
    }
   ],
   "source": [
    "for estado, i in zip(estados, ejemplo_robot_VI.policy):\n",
    "    print(f'En el estado {estado} ejecuta la acción {acciones[i]}')"
   ]
  },
  {
   "cell_type": "markdown",
   "metadata": {},
   "source": [
    "De manera análoga, se puede obtener una política óptima mediante el algoritmo de iteración de políticas creando una instancia adecuada de la clase `PolicyIteration`."
   ]
  },
  {
   "cell_type": "code",
   "execution_count": 228,
   "metadata": {},
   "outputs": [
    {
     "name": "stdout",
     "output_type": "stream",
     "text": [
      "P: \n",
      "array([[1.  , 0.  , 0.  , 0.  , 0.  , 0.  , 0.  , 0.  , 0.  ],\n",
      "       [0.3 , 0.7 , 0.  , 0.  , 0.  , 0.  , 0.  , 0.  , 0.  ],\n",
      "       [0.05, 0.25, 0.7 , 0.  , 0.  , 0.  , 0.  , 0.  , 0.  ],\n",
      "       [0.  , 0.1 , 0.2 , 0.7 , 0.  , 0.  , 0.  , 0.  , 0.  ],\n",
      "       [0.  , 0.  , 0.1 , 0.2 , 0.7 , 0.  , 0.  , 0.  , 0.  ],\n",
      "       [0.  , 0.  , 0.  , 0.  , 0.  , 0.2 , 0.8 , 0.  , 0.  ],\n",
      "       [0.  , 0.  , 0.  , 0.  , 0.  , 0.  , 0.2 , 0.8 , 0.  ],\n",
      "       [0.  , 0.  , 0.  , 0.  , 0.  , 0.  , 0.  , 0.2 , 0.8 ],\n",
      "       [0.  , 0.  , 0.  , 0.  , 0.  , 0.  , 0.  , 0.  , 1.  ]])\n",
      "array([[1. , 0. , 0. , 0. , 0. , 0. , 0. , 0. , 0. ],\n",
      "       [0.2, 0. , 0. , 0. , 0. , 0.8, 0. , 0. , 0. ],\n",
      "       [0.1, 0. , 0. , 0. , 0. , 0.3, 0.6, 0. , 0. ],\n",
      "       [0. , 0. , 0. , 0. , 0. , 0.1, 0.3, 0.6, 0. ],\n",
      "       [0. , 0. , 0. , 0. , 0. , 0. , 0.1, 0.3, 0.6],\n",
      "       [0.2, 0.8, 0. , 0. , 0. , 0. , 0. , 0. , 0. ],\n",
      "       [0.1, 0.3, 0.6, 0. , 0. , 0. , 0. , 0. , 0. ],\n",
      "       [0. , 0.1, 0.3, 0.6, 0. , 0. , 0. , 0. , 0. ],\n",
      "       [0. , 0. , 0.1, 0.3, 0.6, 0. , 0. , 0. , 0. ]])\n",
      "\n",
      "R: \n",
      "array([-1.e+07,  0.e+00,  0.e+00,  0.e+00,    -inf,  1.e+02,  1.e+02,\n",
      "        1.e+02,  1.e+02])\n",
      "array([ -inf,    0.,    0.,    0., -100.,  100.,  100.,  100.,  -inf])\n",
      "\n",
      "  Iteration\t\tNumber of different actions\n",
      "    1\t\t  2\n",
      "    2\t\t  0\n",
      "Iterating stopped, unchanging policy found.\n",
      "\n",
      "En el estado M ejecuta la acción actua\n",
      "En el estado PC2 ejecuta la acción actua\n",
      "En el estado PC3 ejecuta la acción actua\n",
      "En el estado PC4 ejecuta la acción actua\n",
      "En el estado PC5 ejecuta la acción actua\n",
      "En el estado A2 ejecuta la acción actua\n",
      "En el estado A3 ejecuta la acción actua\n",
      "En el estado A4 ejecuta la acción actua\n",
      "En el estado A5 ejecuta la acción actua\n"
     ]
    }
   ],
   "source": [
    "ejemplo_robot_PI = mdp.PolicyIteration(\n",
    "    transitions=transiciones_sistema,\n",
    "    reward=recompensas_sistema,\n",
    "    discount=0.9,\n",
    "    policy0=numpy.array([0, 0, 0, 4, 0, 0, 5, 0, 0])  # La política inicial es esperar en cada estado\n",
    ")\n",
    "ejemplo_robot_PI.setVerbose()\n",
    "print(ejemplo_robot_PI)\n",
    "\n",
    "ejemplo_robot_PI.run()\n",
    "\n",
    "print()\n",
    "for estado, i in zip(estados, ejemplo_robot_PI.policy):\n",
    "    print(f'En el estado {estado} ejecuta la acción {acciones[i]}')"
   ]
  },
  {
   "cell_type": "markdown",
   "metadata": {},
   "source": [
    "# Ejemplo de la piscifactoría"
   ]
  },
  {
   "cell_type": "markdown",
   "metadata": {},
   "source": [
    "Estamos a cargo de una piscifactoría. Cada temporada hay que decidir qué parte de la población de peces se captura y comercializa y qué parte se deja en la piscifactoría para que se reproduzcan. Si denotamos $x$ la cantidad de peces que hay en la piscifactoría al inicio de la temporada, la recompensa que se obtiene al comercializar $y < x$ peces es $10y$. Si $z = x - y$ es la cantidad de peces que quedan, entonces para la siguiente temporada puede haber ocurrido uno de los siguientes casos:\n",
    "* Con probabilidad $0.2$, la temporada ha sido buena y los peces se han reproducido hasta alcanzar la cantidad de $1.8z$.\n",
    "* Con probabilidad $0.7$, la temporada ha sido normal y los peces se han reproducido hasta alcanzar la cantidad de $1.4z$.\n",
    "* Con probabilidad $0.1$, la temporada ha sido mala y los peces no se han reproducido lo suficiente, por lo que queda una cantidad de $0.9z$.\n",
    "\n",
    "En todos los casos se redondea hacia arriba y hay que tener también en cuenta que la piscifactoría tiene una capacidad máxima de $N$ peces. También puede ocurrir que coincidan alguno, o incluso todos, los valores anteriores, en cuyo caso las probabilidades correspondientes se suman."
   ]
  },
  {
   "cell_type": "markdown",
   "metadata": {},
   "source": [
    "Por ejemplo, supongamos que $N = 10$. Entonces:\n",
    "* Los posibles estados son: $0, 1, \\dotsc, 10$.\n",
    "* La recompensa de cada estado es $0$, ya que lo que se pretende es maximizar los beneficios de comercializar los peces, más que disponer de una cierta cantidad de peces en la piscifactoría (una variante a considerar sería establecer recompensas menores para los estados con menos peces, para así evitar las políticas que dejen pocos peces en la piscifactoría).\n",
    "* Las posibles acciones son comercializar $y$ peces, para cada $y = 0, 1, \\dotsc, 10$.\n",
    "* El coste de comercializar $y$ peces es $-10y$. Obsérvese que son valores negativos para considerarlos como beneficio de aplicar la acción.\n",
    "* Sin embargo, si en la piscifactoría hay $x$ peces, entonces el coste de comercializar $y > 0$ peces, con $y \\geq x$, es $\\infty$, ya que esas acciones no serían aplicables. Comercializar $0$ peces siempre es aplicable.\n",
    "* Si en la piscifactoría hay $x = 8$ peces y comercializamos $y = 2$ peces, entonces la función de transición para esa acción sería:\n",
    "  * Con probabilidad 0.2 pasaríamos al estado $1.8 (8 - 2) = 10$ (ya que esa es la capacidad máxima de la factoría).\n",
    "  * Con probabilidad 0.7 pasaríamos al estado $1.4 (8 - 2) = 9$.\n",
    "  * Con probabilidad 0.1 pasaríamos al estado $0.9 (8 - 2) = 6$."
   ]
  },
  {
   "cell_type": "markdown",
   "metadata": {},
   "source": [
    "**Ejercicio 1**: Definir una función que, dadas la capacidad $N$ de la piscifactoria y la cantidad $y$ de peces a comercializar, devuelva el vector de costes de esa acción."
   ]
  },
  {
   "cell_type": "code",
   "execution_count": null,
   "metadata": {},
   "outputs": [],
   "source": []
  },
  {
   "cell_type": "markdown",
   "metadata": {},
   "source": [
    "**Ejercicio 2**: Definir una función que, dadas la capacidad $N$ de la piscifactoria y la cantidad $y$ de peces a comercializar, devuelva la matriz de transición de esa acción."
   ]
  },
  {
   "cell_type": "code",
   "execution_count": null,
   "metadata": {},
   "outputs": [],
   "source": []
  },
  {
   "cell_type": "markdown",
   "metadata": {},
   "source": [
    "**Ejercicio 3**: Definir una función que, dada la capacidad $N$ de la piscifactoría, devuelva la matriz de recompensas del proceso de decisión de Markov correspondiente."
   ]
  },
  {
   "cell_type": "code",
   "execution_count": null,
   "metadata": {},
   "outputs": [],
   "source": []
  },
  {
   "cell_type": "markdown",
   "metadata": {},
   "source": [
    "**Ejercicio 4**: Definir una función que, dada la capacidad $N$ de la piscifactoría, devuelva el array de matrices de transición del proceso de decisión de Markov correspondiente."
   ]
  },
  {
   "cell_type": "code",
   "execution_count": null,
   "metadata": {},
   "outputs": [],
   "source": []
  },
  {
   "cell_type": "markdown",
   "metadata": {},
   "source": [
    "**Ejercicio 5**: Aplicar los algoritmos de iteración de valores y políticas para calcular políticas óptimas considerando distintos valores de $N$ (por ejemplo, distintas potencias de $10$) y del factor de descuento (por ejemplo, $\\gamma = 0.1, 0.5, 0.9$, para tener poco, algo o mucho en cuenta lo que pueda ocurrir en el futuro)."
   ]
  },
  {
   "cell_type": "code",
   "execution_count": null,
   "metadata": {},
   "outputs": [],
   "source": []
  }
 ],
 "metadata": {
  "kernelspec": {
   "display_name": "Python 3",
   "language": "python",
   "name": "python3"
  },
  "language_info": {
   "codemirror_mode": {
    "name": "ipython",
    "version": 3
   },
   "file_extension": ".py",
   "mimetype": "text/x-python",
   "name": "python",
   "nbconvert_exporter": "python",
   "pygments_lexer": "ipython3",
   "version": "3.8.10"
  },
  "vscode": {
   "interpreter": {
    "hash": "916dbcbb3f70747c44a77c7bcd40155683ae19c65e1c03b4aa3499c5328201f1"
   }
  }
 },
 "nbformat": 4,
 "nbformat_minor": 4
}
